{
 "cells": [
  {
   "cell_type": "code",
   "execution_count": 1,
   "id": "c536bcbe",
   "metadata": {},
   "outputs": [],
   "source": [
    "from deepblast.utils import load_model"
   ]
  },
  {
   "cell_type": "code",
   "execution_count": 2,
   "id": "98b49ae1",
   "metadata": {},
   "outputs": [
    {
     "name": "stdout",
     "output_type": "stream",
     "text": [
      "deepblast-l8.ckpt  deepblast-pt-l8.ckpt  deepblast-v3.ckpt  prot_t5_xl_uniref50\r\n"
     ]
    }
   ],
   "source": [
    "!ls ../models"
   ]
  },
  {
   "cell_type": "code",
   "execution_count": 3,
   "id": "ca7e3883",
   "metadata": {},
   "outputs": [
    {
     "name": "stderr",
     "output_type": "stream",
     "text": [
      "You are using the default legacy behaviour of the <class 'transformers.models.t5.tokenization_t5.T5Tokenizer'>. This is expected, and simply means that the `legacy` (previous) behavior will be used so nothing changes for you. If you want to use the new behaviour, set `legacy=False`. This should only be set if you understand what it means, and thouroughly read the reason why this was added as explained in https://github.com/huggingface/transformers/pull/24565\n"
     ]
    },
    {
     "name": "stdout",
     "output_type": "stream",
     "text": [
      "cpu\n"
     ]
    },
    {
     "data": {
      "text/plain": [
       "':1:::::::::::::::::::::::::::::::::::::2::::::::::::::::::::::1:'"
      ]
     },
     "execution_count": 3,
     "metadata": {},
     "output_type": "execute_result"
    }
   ],
   "source": [
    "model = load_model(\"../models/deepblast-v3.ckpt\", \"../models/prot_t5_xl_uniref50\", device='cpu', \n",
    "                   alignment_mode='smith-waterman')\n",
    "print(model.device)\n",
    "\n",
    "x = 'IGKEEIQQRLAQFVDHWKELKQLAAARGQRLEESLEYQQFVANVEEEEAWINEKMTLVASED'\n",
    "y = 'QQNKELNFKLREKQNEIFELKKIAETLRSKLEKYVDITKKLEDQNLNLQIKISDLEKKLSDA'\n",
    "# obtains alignment string specifying structural superposition\n",
    "pred_alignment = model.align(x, y)\n",
    "\n",
    "pred_alignment"
   ]
  },
  {
   "cell_type": "code",
   "execution_count": 4,
   "id": "0310495b",
   "metadata": {},
   "outputs": [
    {
     "name": "stdout",
     "output_type": "stream",
     "text": [
      "cpu\n"
     ]
    },
    {
     "data": {
      "text/plain": [
       "'::::::::::::::::::::::::::::::::::::::2::::::::::::::::::::::1:'"
      ]
     },
     "execution_count": 4,
     "metadata": {},
     "output_type": "execute_result"
    }
   ],
   "source": [
    "model = load_model(\"../models/deepblast-v3.ckpt\", \"../models/prot_t5_xl_uniref50\", device='cpu', \n",
    "                   alignment_mode='needleman-wunsch')\n",
    "print(model.device)\n",
    "\n",
    "x = 'IGKEEIQQRLAQFVDHWKELKQLAAARGQRLEESLEYQQFVANVEEEEAWINEKMTLVASED'\n",
    "y = 'QQNKELNFKLREKQNEIFELKKIAETLRSKLEKYVDITKKLEDQNLNLQIKISDLEKKLSDA'\n",
    "# obtains alignment string specifying structural superposition\n",
    "pred_alignment = model.align(x, y)\n",
    "pred_alignment"
   ]
  },
  {
   "cell_type": "code",
   "execution_count": 5,
   "id": "fed119a7",
   "metadata": {},
   "outputs": [
    {
     "name": "stdout",
     "output_type": "stream",
     "text": [
      "cuda:0\n"
     ]
    },
    {
     "data": {
      "text/plain": [
       "'21:::::::::::::::::::::::::::::::::::::2::::::::::::::::::::::1:'"
      ]
     },
     "execution_count": 5,
     "metadata": {},
     "output_type": "execute_result"
    }
   ],
   "source": [
    "model = load_model(\"../models/deepblast-v3.ckpt\", \"../models/prot_t5_xl_uniref50\", device='cuda', \n",
    "                   alignment_mode='smith-waterman')\n",
    "print(model.device)\n",
    "\n",
    "x = 'IGKEEIQQRLAQFVDHWKELKQLAAARGQRLEESLEYQQFVANVEEEEAWINEKMTLVASED'\n",
    "y = 'QQNKELNFKLREKQNEIFELKKIAETLRSKLEKYVDITKKLEDQNLNLQIKISDLEKKLSDA'\n",
    "# obtains alignment string specifying structural superposition\n",
    "pred_alignment = model.align(x, y)\n",
    "pred_alignment"
   ]
  },
  {
   "cell_type": "code",
   "execution_count": 6,
   "id": "d6e1d996",
   "metadata": {},
   "outputs": [
    {
     "name": "stdout",
     "output_type": "stream",
     "text": [
      "cuda:0\n"
     ]
    },
    {
     "data": {
      "text/plain": [
       "'::::::::::::::::::::::::::::::::::::::2::::::::::::::::::::::1:'"
      ]
     },
     "execution_count": 6,
     "metadata": {},
     "output_type": "execute_result"
    }
   ],
   "source": [
    "model = load_model(\"../models/deepblast-v3.ckpt\", \"../models/prot_t5_xl_uniref50\", device='cuda', \n",
    "                   alignment_mode='needleman-wunsch')\n",
    "print(model.device)\n",
    "\n",
    "x = 'IGKEEIQQRLAQFVDHWKELKQLAAARGQRLEESLEYQQFVANVEEEEAWINEKMTLVASED'\n",
    "y = 'QQNKELNFKLREKQNEIFELKKIAETLRSKLEKYVDITKKLEDQNLNLQIKISDLEKKLSDA'\n",
    "# obtains alignment string specifying structural superposition\n",
    "pred_alignment = model.align(x, y)\n",
    "pred_alignment"
   ]
  }
 ],
 "metadata": {
  "kernelspec": {
   "display_name": "Python 3 (ipykernel)",
   "language": "python",
   "name": "python3"
  },
  "language_info": {
   "codemirror_mode": {
    "name": "ipython",
    "version": 3
   },
   "file_extension": ".py",
   "mimetype": "text/x-python",
   "name": "python",
   "nbconvert_exporter": "python",
   "pygments_lexer": "ipython3",
   "version": "3.9.7"
  }
 },
 "nbformat": 4,
 "nbformat_minor": 5
}
